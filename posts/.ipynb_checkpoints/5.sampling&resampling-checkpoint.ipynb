{
 "cells": [
  {
   "cell_type": "raw",
   "id": "d2c03632-b4a7-40dd-8413-793b203cd603",
   "metadata": {},
   "source": [
    "---\n",
    "title: \"5. Sampling & Resampling\"\n",
    "author: \"이상민\"\n",
    "date: \"04/15/2025\"\n",
    "---"
   ]
  },
  {
   "cell_type": "markdown",
   "id": "16921820-1819-4734-a658-42cc5d8e1cbd",
   "metadata": {},
   "source": [
    "### 1. imports"
   ]
  },
  {
   "cell_type": "code",
   "execution_count": 1,
   "id": "5df0e290-0436-45bc-b587-eff2b087b352",
   "metadata": {},
   "outputs": [],
   "source": [
    "#!pip install ISLP\n",
    "import numpy as np\n",
    "import statsmodels.api as sm\n",
    "from ISLP import load_data\n",
    "from ISLP.models import (ModelSpec as MS, summarize, poly)\n",
    "\n",
    "from sklearn.model_selection import train_test_split"
   ]
  },
  {
   "cell_type": "code",
   "execution_count": 2,
   "id": "99e0d4ca-e1bf-4a62-9022-a87acc0a3d37",
   "metadata": {},
   "outputs": [],
   "source": [
    "from functools import partial\n",
    "from sklearn.model_selection import (cross_validate , KFold , ShuffleSplit)\n",
    "from sklearn.base import clone\n",
    "from ISLP.models import sklearn_sm"
   ]
  },
  {
   "cell_type": "markdown",
   "id": "dc9f6854-7093-4a9a-bef7-b1f6e38a850c",
   "metadata": {},
   "source": [
    "### 2. Validation and CV\n",
    "\n",
    "`-` `Auto` 데이터 로딩 및 데이터 쪼개기\n",
    "\n",
    "* `test_size`를 키우면 훈련 데이터가 줄어듦\n",
    "* `Validation` 오차 확인"
   ]
  },
  {
   "cell_type": "code",
   "execution_count": 3,
   "id": "f9a5b6ea-2906-4fd6-95b9-46fe51ef2c61",
   "metadata": {},
   "outputs": [
    {
     "name": "stdout",
     "output_type": "stream",
     "text": [
      "                            OLS Regression Results                            \n",
      "==============================================================================\n",
      "Dep. Variable:                    mpg   R-squared:                       0.599\n",
      "Model:                            OLS   Adj. R-squared:                  0.598\n",
      "Method:                 Least Squares   F-statistic:                     433.9\n",
      "Date:                Tue, 15 Apr 2025   Prob (F-statistic):           1.48e-59\n",
      "Time:                        01:05:33   Log-Likelihood:                -879.71\n",
      "No. Observations:                 292   AIC:                             1763.\n",
      "Df Residuals:                     290   BIC:                             1771.\n",
      "Df Model:                           1                                         \n",
      "Covariance Type:            nonrobust                                         \n",
      "==============================================================================\n",
      "                 coef    std err          t      P>|t|      [0.025      0.975]\n",
      "------------------------------------------------------------------------------\n",
      "intercept     39.8828      0.848     47.020      0.000      38.213      41.552\n",
      "horsepower    -0.1587      0.008    -20.831      0.000      -0.174      -0.144\n",
      "==============================================================================\n",
      "Omnibus:                        8.415   Durbin-Watson:                   2.042\n",
      "Prob(Omnibus):                  0.015   Jarque-Bera (JB):                8.304\n",
      "Skew:                           0.397   Prob(JB):                       0.0157\n",
      "Kurtosis:                       3.226   Cond. No.                         327.\n",
      "==============================================================================\n",
      "\n",
      "Notes:\n",
      "[1] Standard Errors assume that the covariance matrix of the errors is correctly specified.\n",
      "24.228292976800535\n",
      "23.20193004710425\n"
     ]
    }
   ],
   "source": [
    "Auto = load_data('Auto')\n",
    "Auto_train, Auto_valid = train_test_split(Auto, test_size=100, random_state=0)\n",
    "\n",
    "hp_mm = MS(['horsepower'])\n",
    "X_train = hp_mm.fit_transform(Auto_train)\n",
    "y_train = Auto_train['mpg']\n",
    "model = sm.OLS(y_train, X_train)\n",
    "results = model.fit()\n",
    "print(results.summary())\n",
    "\n",
    "X_valid = hp_mm.transform(Auto_valid)\n",
    "y_valid = Auto_valid['mpg']\n",
    "valid_pred = results.predict(X_valid)\n",
    "train_pred = results.predict(X_train)\n",
    "\n",
    "print(np.mean((y_train - train_pred)**2))\n",
    "print(np.mean((y_valid - valid_pred)**2))"
   ]
  },
  {
   "cell_type": "markdown",
   "id": "91107b40-766c-4727-90ca-c4a213b9f62b",
   "metadata": {},
   "source": [
    "`-` 훈련과 검증 오차를 확인하는 함수 생성"
   ]
  },
  {
   "cell_type": "code",
   "execution_count": 4,
   "id": "f806146e-87ef-43a9-834a-d48d37221980",
   "metadata": {},
   "outputs": [],
   "source": [
    "def evalMSE(terms, response , train , test):\n",
    "    mm = MS(terms)\n",
    "    X_train = mm.fit_transform(train)\n",
    "    y_train = train[response]\n",
    "    X_test = mm.transform(test)\n",
    "    y_test = test[response]\n",
    "    results = sm.OLS(y_train, X_train).fit()\n",
    "    test_pred = results.predict(X_test)\n",
    "    return np.mean((y_test - test_pred)**2)"
   ]
  },
  {
   "cell_type": "markdown",
   "id": "dbbc28c0-bffb-4623-909e-662d9b95c9da",
   "metadata": {},
   "source": [
    "`-` 다항모형의 차수를 바꾸면서 검증 오차를 확인(Validation error for degrees)"
   ]
  },
  {
   "cell_type": "code",
   "execution_count": 5,
   "id": "52f98fa2-8258-4b29-ab92-5a8a44b22878",
   "metadata": {},
   "outputs": [
    {
     "data": {
      "text/plain": [
       "array([23.20193005, 16.99348987, 16.9506061 ])"
      ]
     },
     "execution_count": 5,
     "metadata": {},
     "output_type": "execute_result"
    }
   ],
   "source": [
    "MSE = np.zeros(3)\n",
    "for idx, degree in enumerate(range(1, 4)):\n",
    "    MSE[idx] = evalMSE([poly('horsepower', degree)], 'mpg', Auto_train, Auto_valid)\n",
    "MSE"
   ]
  },
  {
   "cell_type": "markdown",
   "id": "eec9475e-9aa2-4002-addc-90760397580d",
   "metadata": {},
   "source": [
    "`-` 교차 검증 오차(leave-one-out)"
   ]
  },
  {
   "cell_type": "code",
   "execution_count": 6,
   "id": "f5a60c3b-b8be-46cf-bfb4-329cc4434306",
   "metadata": {},
   "outputs": [
    {
     "data": {
      "text/plain": [
       "24.231513517929226"
      ]
     },
     "execution_count": 6,
     "metadata": {},
     "output_type": "execute_result"
    }
   ],
   "source": [
    "hp_model = sklearn_sm(sm.OLS, MS(['horsepower']))\n",
    "X, Y = Auto.drop(columns=['mpg']), Auto['mpg']\n",
    "cv_results = cross_validate(hp_model, X, Y, cv=Auto.shape[0])\n",
    "cv_err = np.mean(cv_results['test_score'])\n",
    "cv_err"
   ]
  },
  {
   "cell_type": "markdown",
   "id": "fcdf5ac8-fc5f-427f-bda4-12e49acee37b",
   "metadata": {},
   "source": [
    "`-` 다항식의 차수를 키웠을 때의 교차검증오차(leave-one-out)을 확인"
   ]
  },
  {
   "cell_type": "code",
   "execution_count": 7,
   "id": "5d2339b6-48f0-4be3-94f5-4754f58575ab",
   "metadata": {},
   "outputs": [
    {
     "data": {
      "text/plain": [
       "array([24.23151352, 19.24821312, 19.33498406, 19.42443036, 19.03323735])"
      ]
     },
     "execution_count": 7,
     "metadata": {},
     "output_type": "execute_result"
    }
   ],
   "source": [
    "cv_error = np.zeros(5)\n",
    "H = np.array(Auto['horsepower'])\n",
    "M = sklearn_sm(sm.OLS)\n",
    "\n",
    "for i, d in enumerate(range(1,6)):\n",
    "  X = np.power.outer(H, np.arange(d+1))\n",
    "  M_CV = cross_validate(M, X, Y, cv=Auto.shape[0])\n",
    "  cv_error[i] = np.mean(M_CV['test_score'])\n",
    "\n",
    "cv_error"
   ]
  },
  {
   "cell_type": "markdown",
   "id": "8ce3eca1-1e52-4ca5-a812-00d0fa491033",
   "metadata": {},
   "source": [
    "`-` 40 fold-CV 를 통해서 차수에 대한 예측오차를 확인함\n",
    "\n",
    "* shupple=True : 무작위로 섞어라\n",
    "* n_split=40 : 40개로 쪼개라\n",
    "* 1차에서 값이 크고 2차에서 값이 뚝 떨어진다"
   ]
  },
  {
   "cell_type": "code",
   "execution_count": 12,
   "id": "04f9551c-71ed-4427-87a6-244f31391516",
   "metadata": {},
   "outputs": [
    {
     "name": "stdout",
     "output_type": "stream",
     "text": [
      "KFold(n_splits=40, random_state=0, shuffle=True)\n",
      "[24.11505971 19.04928568 19.14454426 19.28592384 18.93589665]\n"
     ]
    }
   ],
   "source": [
    "cv_error = np.zeros(5)\n",
    "# 40개로 쪼개는 CV\n",
    "cv = KFold(n_splits=40, shuffle=True, random_state=0)\n",
    "print(cv)\n",
    "\n",
    "# use same splits for each degree for i, d in enumerate(range(1,6)):\n",
    "for i, d in enumerate(range(1,6)):\n",
    "    X = np.power.outer(H, np.arange(d+1))\n",
    "    M_CV = cross_validate(M, X, Y, cv=cv)\n",
    "    cv_error[i] = np.mean(M_CV['test_score'])\n",
    "cv_error\n",
    "print(cv_error)"
   ]
  },
  {
   "cell_type": "markdown",
   "id": "e63fdd21-5e4c-4900-8151-8baeb5fa1b1f",
   "metadata": {},
   "source": [
    "`-` 두 개로 쪼개서 validation error를 확인\n",
    "\n",
    "* CV를 이렇게 숫자를 지정해서 하는 방법도 있다는 정도.."
   ]
  },
  {
   "cell_type": "code",
   "execution_count": 9,
   "id": "1505c3ac-5468-42b6-a318-82c5f28110f8",
   "metadata": {},
   "outputs": [
    {
     "name": "stdout",
     "output_type": "stream",
     "text": [
      "{'fit_time': array([0.00582528]), 'score_time': array([0.00158834]), 'test_score': array([23.61661707])}\n"
     ]
    }
   ],
   "source": [
    "validation = ShuffleSplit(n_splits=1, test_size=196, random_state=0)\n",
    "results = cross_validate(hp_model,\n",
    "Auto.drop(['mpg'], axis=1), Auto['mpg'], cv =validation)\n",
    "print(results)"
   ]
  },
  {
   "cell_type": "markdown",
   "id": "6dd14214-651e-4b90-938a-5ff870596ac3",
   "metadata": {},
   "source": [
    "### 3. Bootstrap\n",
    "\n",
    "`-`  $Var ( \\alpha X + ( 1- \\alpha)Y)$를 최소화하는 문제: 수식에 의해서 $\\alpha$에 대한 해는\n",
    "$$ \\frac{ \\sigma_Y^2 - \\sigma_{XY} }{  \\sigma_X^2 + \\sigma_Y^2 - 2 \\sigma_{XY} }$$\n",
    "\n",
    "* X가 $\\alpha$ 만큼의 비중 Y가 $1-\\alpha$만큼의 비중\n",
    "* 분산을 줄이고싶음"
   ]
  },
  {
   "cell_type": "markdown",
   "id": "11d3e8a5-2a00-461b-98e5-472de1bcd13b",
   "metadata": {},
   "source": [
    "`-` 주어진 데이터의 인뎅싱을 통해서 공분산을 얻고 해를 구함"
   ]
  },
  {
   "cell_type": "code",
   "execution_count": 13,
   "id": "c3f5f435-5a47-409c-8946-8ffbe07dfe6a",
   "metadata": {},
   "outputs": [],
   "source": [
    "Portfolio = load_data('Portfolio')\n",
    "def alpha_func(D, idx):\n",
    "    cov_ = np.cov(D[['X','Y']].loc[idx], rowvar=False)\n",
    "    return ((cov_[1,1] - cov_[0,1]) / (cov_[0,0]+cov_[1,1]-2*cov_[0,1]))"
   ]
  },
  {
   "cell_type": "markdown",
   "id": "9d2b4427-e769-47b9-bd32-27125a22906c",
   "metadata": {},
   "source": [
    "`-` 위의 함수 구동\n",
    "\n",
    "* index를 랜덤하게 정해서 결과를 확인"
   ]
  },
  {
   "cell_type": "code",
   "execution_count": 14,
   "id": "a59c8e12-ab2a-4bfb-84bd-0f5920faa0f5",
   "metadata": {},
   "outputs": [
    {
     "data": {
      "text/plain": [
       "0.5758320745928298"
      ]
     },
     "execution_count": 14,
     "metadata": {},
     "output_type": "execute_result"
    }
   ],
   "source": [
    "rng = np.random.default_rng()\n",
    "idx = rng.choice(100, 100, replace=True)\n",
    "idx = range(Portfolio.shape[0])\n",
    "alpha_func(Portfolio, idx)"
   ]
  },
  {
   "cell_type": "markdown",
   "id": "1e31dfc4-6b11-4440-81b7-8875f694a684",
   "metadata": {},
   "source": [
    "`-` 붓스트랩 기법의 적용($\\alpha$)\n",
    "\n",
    "* $\\alpha$에 대한 계산을 여러 개의 복원추출 샘플로 구함\n",
    "* 여기 나온 여래개의 $\\alpha$로 (추정량)$\\hat{\\alpha}$의 표준편차를 추정"
   ]
  },
  {
   "cell_type": "code",
   "execution_count": 15,
   "id": "2a5dbeb6-bce0-4daa-a1d5-7e57b41056d3",
   "metadata": {},
   "outputs": [
    {
     "data": {
      "text/plain": [
       "0.08945522198999856"
      ]
     },
     "execution_count": 15,
     "metadata": {},
     "output_type": "execute_result"
    }
   ],
   "source": [
    "def boot_SE(func, D, n=None, B=1000, seed=0):\n",
    "    rng = np.random.default_rng(seed)\n",
    "    first_ , second_ = 0, 0\n",
    "    n = n or D.shape[0]\n",
    "    for _ in range(B):\n",
    "        idx = rng.choice(D.index, n, replace=True)\n",
    "        value = func(D, idx)\n",
    "        first_ += value\n",
    "        second_ += value**2\n",
    "    return np.sqrt(second_ / B - (first_ / B)**2) # 표준편차 계산\n",
    "\n",
    "alpha_SE = boot_SE(alpha_func, Portfolio ,B=1000, seed=1)\n",
    "alpha_SE"
   ]
  },
  {
   "cell_type": "markdown",
   "id": "1ca1b182-63ce-44cb-9f6f-bf4a8104546b",
   "metadata": {},
   "source": [
    "`-` 붓스트랩 기법의 적용(OLS)\n",
    "\n",
    "* 복원추출로 여러 개의 샘플을 만들어 회귀계수들을 확인\n",
    "* 함수를 구동할 때 모든 인자가 아니라 필요한 인자만 받을 수 있게 함\n",
    "* 앞에 두 인자는 고정시키게 됨"
   ]
  },
  {
   "cell_type": "code",
   "execution_count": 16,
   "id": "0613f4f4-b53a-4cfe-aa84-c56d66a97552",
   "metadata": {},
   "outputs": [],
   "source": [
    "def boot_OLS(model_matrix, response, D, idx):\n",
    "   D_ = D.iloc[idx]     #D.iloc #\n",
    "   Y_ = D_[response]\n",
    "   X_ = clone(model_matrix).fit_transform(D_)\n",
    "   return sm.OLS(Y_, X_).fit().params\n",
    "\n",
    "hp_func = partial(boot_OLS, MS(['horsepower']), 'mpg')"
   ]
  },
  {
   "cell_type": "code",
   "execution_count": 17,
   "id": "a7e67b99-ed08-4100-9972-1089afd575d8",
   "metadata": {},
   "outputs": [
    {
     "name": "stdout",
     "output_type": "stream",
     "text": [
      "[[39.88064456 -0.1567849 ]\n",
      " [38.73298691 -0.14699495]\n",
      " [38.31734657 -0.14442683]\n",
      " [39.91446826 -0.15782234]\n",
      " [39.43349349 -0.15072702]\n",
      " [40.36629857 -0.15912217]\n",
      " [39.62334517 -0.15449117]\n",
      " [39.0580588  -0.14952908]\n",
      " [38.66688437 -0.14521037]\n",
      " [39.64280792 -0.15555698]]\n"
     ]
    }
   ],
   "source": [
    "rng = np.random.default_rng(0)\n",
    "kk = [hp_func(Auto, rng.choice(392, 392, replace=True)) for _ in range(10)]\n",
    "print(np.array(kk))"
   ]
  },
  {
   "cell_type": "markdown",
   "id": "4ee52e55-e360-42e1-b0c3-3e14fd4e9485",
   "metadata": {},
   "source": [
    "`-` 붓스트랩으로 얻은 표준오차와 일반 방법론으로 얻은 표준오차 비교"
   ]
  },
  {
   "cell_type": "code",
   "execution_count": 18,
   "id": "97f040aa-ccde-4e63-b929-f7e0f3712395",
   "metadata": {},
   "outputs": [
    {
     "name": "stdout",
     "output_type": "stream",
     "text": [
      "intercept     0.717654\n",
      "horsepower    0.006041\n",
      "dtype: float64\n",
      "intercept     0.717\n",
      "horsepower    0.006\n",
      "Name: std err, dtype: float64\n"
     ]
    }
   ],
   "source": [
    "def boot_OLS(model_matrix, response, D, idx):\n",
    "   D_ = D.loc[idx]     #D.iloc #\n",
    "   Y_ = D_[response]\n",
    "   X_ = clone(model_matrix).fit_transform(D_)\n",
    "   return sm.OLS(Y_, X_).fit().params\n",
    "\n",
    "hp_func = partial(boot_OLS, MS(['horsepower']), 'mpg')\n",
    "hp_se = boot_SE(hp_func, Auto, B=1000, seed=0)\n",
    "print(hp_se)\n",
    "\n",
    "hp_model.fit(Auto, Auto['mpg'])\n",
    "model_se = summarize(hp_model.results_)['std err']\n",
    "print(summarize(M.fit())['std err'])"
   ]
  },
  {
   "cell_type": "code",
   "execution_count": 20,
   "id": "9c1c7c56-0f02-4904-ada3-10342265947d",
   "metadata": {},
   "outputs": [
    {
     "name": "stdout",
     "output_type": "stream",
     "text": [
      "intercept                                  1.538641\n",
      "poly(horsepower, degree=2, raw=True)[0]    0.024696\n",
      "poly(horsepower, degree=2, raw=True)[1]    0.000090\n",
      "dtype: float64\n",
      "intercept                                  1.800\n",
      "poly(horsepower, degree=2, raw=True)[0]    0.031\n",
      "poly(horsepower, degree=2, raw=True)[1]    0.000\n",
      "Name: std err, dtype: float64\n"
     ]
    }
   ],
   "source": [
    "quad_model = MS([poly('horsepower', 2, raw=True)])\n",
    "quad_func = partial(boot_OLS, quad_model, 'mpg')\n",
    "print(boot_SE(quad_func, Auto, B=1000))\n",
    "\n",
    "M = sm.OLS(Auto['mpg'], quad_model.fit_transform(Auto))\n",
    "print(summarize(M.fit())['std err'])"
   ]
  }
 ],
 "metadata": {
  "kernelspec": {
   "display_name": "Python 3 (ipykernel)",
   "language": "python",
   "name": "python3"
  },
  "language_info": {
   "codemirror_mode": {
    "name": "ipython",
    "version": 3
   },
   "file_extension": ".py",
   "mimetype": "text/x-python",
   "name": "python",
   "nbconvert_exporter": "python",
   "pygments_lexer": "ipython3",
   "version": "3.10.12"
  }
 },
 "nbformat": 4,
 "nbformat_minor": 5
}
