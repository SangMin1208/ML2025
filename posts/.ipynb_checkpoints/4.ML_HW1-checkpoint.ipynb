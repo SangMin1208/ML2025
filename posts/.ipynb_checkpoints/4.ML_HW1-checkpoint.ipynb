{
 "cells": [
  {
   "cell_type": "raw",
   "id": "9d02acf3-e6ed-4fd9-95c4-21c7aabde2ae",
   "metadata": {},
   "source": [
    "---\n",
    "title: \"4. ML HW1\"\n",
    "author: \"이상민\"\n",
    "date: \"04/14/2025\"\n",
    "---"
   ]
  },
  {
   "cell_type": "code",
   "execution_count": null,
   "id": "1ef9b7bc-e0de-4e33-969c-7e9119ad89ed",
   "metadata": {},
   "outputs": [],
   "source": []
  }
 ],
 "metadata": {
  "kernelspec": {
   "display_name": "Python 3 (ipykernel)",
   "language": "python",
   "name": "python3"
  },
  "language_info": {
   "codemirror_mode": {
    "name": "ipython",
    "version": 3
   },
   "file_extension": ".py",
   "mimetype": "text/x-python",
   "name": "python",
   "nbconvert_exporter": "python",
   "pygments_lexer": "ipython3",
   "version": "3.10.12"
  }
 },
 "nbformat": 4,
 "nbformat_minor": 5
}
