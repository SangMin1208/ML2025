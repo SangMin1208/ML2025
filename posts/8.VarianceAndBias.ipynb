{
 "cells": [
  {
   "cell_type": "raw",
   "id": "59a1b932-8402-46cf-a513-54ba90070fc5",
   "metadata": {},
   "source": [
    "---\n",
    "title: \"8. Variance and Bias\"\n",
    "author: \"이상민\"\n",
    "date: \"05/15/2025\"\n",
    "---"
   ]
  },
  {
   "cell_type": "code",
   "execution_count": 4,
   "id": "6debf2ae-5afd-4daa-8243-94148e938521",
   "metadata": {},
   "outputs": [],
   "source": [
    "\n",
    "rs = matrix(0,10,100)\n",
    "xx = rnorm(10*10)\n",
    "dim(xx) = c(10,10)\n",
    "colnames(xx) = paste('x', 1:10, sep='')\n",
    "ff = 2*xx[,1]+2*xx[,2]\n",
    "yy = ff + rnorm(10, 0, 1) \n",
    "\n",
    "for (k in 1:100)\n",
    "{  \n",
    "x = rnorm(100*10)\n",
    "dim(x) = c(100,10)\n",
    "colnames(x) = paste('x', 1:10, sep='')\n",
    "y = 2*x[,1]+2*x[,2] + rnorm(100, 0, 1) \n",
    "\n",
    "mm = coef(lm(y~as.matrix(x)))\n",
    "pyy = mm[1] + xx %*% mm[-1]\n",
    "rs[,k] = pyy[]\n",
    "}\n",
    "\n",
    "rss = bais2 = var = 0 \n",
    "\n",
    "for ( k in 1:10)\n",
    "{\n",
    "rss = rss+mean((rs[,k] - yy[k])^2)/10 \n",
    "bias2 = (mean(rs[,k]) - ff[k])^2/10\n",
    "var = var + var(rs[,k])/10\n",
    "}\n"
   ]
  },
  {
   "cell_type": "code",
   "execution_count": 5,
   "id": "641efe20-df5b-4c5e-9d08-3780d84a75ff",
   "metadata": {},
   "outputs": [
    {
     "data": {
      "text/html": [
       "10.4668988127494"
      ],
      "text/latex": [
       "10.4668988127494"
      ],
      "text/markdown": [
       "10.4668988127494"
      ],
      "text/plain": [
       "[1] 10.4669"
      ]
     },
     "metadata": {},
     "output_type": "display_data"
    }
   ],
   "source": [
    "rss"
   ]
  },
  {
   "cell_type": "code",
   "execution_count": 6,
   "id": "e9260445-f3d3-48a5-a6e6-77caa3ddece7",
   "metadata": {},
   "outputs": [
    {
     "data": {
      "text/html": [
       "0.115522433888335"
      ],
      "text/latex": [
       "0.115522433888335"
      ],
      "text/markdown": [
       "0.115522433888335"
      ],
      "text/plain": [
       "[1] 0.1155224"
      ]
     },
     "metadata": {},
     "output_type": "display_data"
    }
   ],
   "source": [
    "bias2"
   ]
  },
  {
   "cell_type": "code",
   "execution_count": 7,
   "id": "4ff0ed40-fea7-4082-90de-ad52e133ef5d",
   "metadata": {},
   "outputs": [
    {
     "data": {
      "text/html": [
       "5.86777707464027"
      ],
      "text/latex": [
       "5.86777707464027"
      ],
      "text/markdown": [
       "5.86777707464027"
      ],
      "text/plain": [
       "[1] 5.867777"
      ]
     },
     "metadata": {},
     "output_type": "display_data"
    }
   ],
   "source": [
    "var"
   ]
  }
 ],
 "metadata": {
  "kernelspec": {
   "display_name": "R",
   "language": "R",
   "name": "ir"
  },
  "language_info": {
   "codemirror_mode": "r",
   "file_extension": ".r",
   "mimetype": "text/x-r-source",
   "name": "R",
   "pygments_lexer": "r",
   "version": "4.3.3"
  }
 },
 "nbformat": 4,
 "nbformat_minor": 5
}
